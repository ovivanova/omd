{
 "cells": [
  {
   "cell_type": "code",
   "execution_count": 19,
   "metadata": {},
   "outputs": [],
   "source": [
    "# Задача 9\n",
    "\n",
    "def replace_spaces(text : str) -> str:\n",
    "    split_text = text.split()\n",
    "    if len(text) > 0:\n",
    "        if len(split_text) == 0:\n",
    "            res = ' '\n",
    "        else:\n",
    "            if text[0] == ' ':\n",
    "                if text[-1] == ' ':\n",
    "                    res = ' '+' '.join(split_text)+' '\n",
    "                else:\n",
    "                    res = ' '+' '.join(split_text)\n",
    "            else:\n",
    "                res = ' '.join(split_text)\n",
    "    else:\n",
    "        res = text\n",
    "    return res"
   ]
  },
  {
   "cell_type": "code",
   "execution_count": 20,
   "metadata": {},
   "outputs": [
    {
     "data": {
      "text/plain": [
       "' My text have spaces'"
      ]
     },
     "execution_count": 20,
     "metadata": {},
     "output_type": "execute_result"
    }
   ],
   "source": [
    "my_example_1 = '  My text   have  spaces'\n",
    "replace_spaces(my_example)"
   ]
  },
  {
   "cell_type": "code",
   "execution_count": 21,
   "metadata": {},
   "outputs": [
    {
     "data": {
      "text/plain": [
       "' '"
      ]
     },
     "execution_count": 21,
     "metadata": {},
     "output_type": "execute_result"
    }
   ],
   "source": [
    "my_example_2 = '  '\n",
    "replace_spaces(my_example_2)"
   ]
  },
  {
   "cell_type": "code",
   "execution_count": 22,
   "metadata": {},
   "outputs": [
    {
     "data": {
      "text/plain": [
       "''"
      ]
     },
     "execution_count": 22,
     "metadata": {},
     "output_type": "execute_result"
    }
   ],
   "source": [
    "my_example_3 =''\n",
    "replace_spaces(my_example_3)"
   ]
  },
  {
   "cell_type": "code",
   "execution_count": 27,
   "metadata": {},
   "outputs": [],
   "source": [
    "# Задача 10\n",
    "from typing import List\n",
    "from itertools import compress\n",
    "\n",
    "def needed_strings(text: List, substring: str) -> List:\n",
    "    mask = [substring in s for s in text]\n",
    "    return list(compress(text, mask))"
   ]
  },
  {
   "cell_type": "code",
   "execution_count": 30,
   "metadata": {},
   "outputs": [
    {
     "data": {
      "text/plain": [
       "['I need to find out something interesting', 'to find']"
      ]
     },
     "execution_count": 30,
     "metadata": {},
     "output_type": "execute_result"
    }
   ],
   "source": [
    "my_list = ['I need to find out something interesting','find it','to find', 'Just text']\n",
    "needed_strings(my_list, 'to find')"
   ]
  },
  {
   "cell_type": "code",
   "execution_count": null,
   "metadata": {},
   "outputs": [],
   "source": []
  },
  {
   "cell_type": "code",
   "execution_count": 41,
   "metadata": {},
   "outputs": [],
   "source": [
    "# Задача 11\n",
    "\n",
    "def wrong_coordinates(coordinates: List) -> List:\n",
    "    mask = [False if abs(c[0]) <= 90 and abs(c[1]) <= 180 else True for c in coordinates]\n",
    "    return list(compress(coordinates, mask))"
   ]
  },
  {
   "cell_type": "code",
   "execution_count": 42,
   "metadata": {},
   "outputs": [
    {
     "data": {
      "text/plain": [
       "[(180, 87), (-98, 87)]"
      ]
     },
     "execution_count": 42,
     "metadata": {},
     "output_type": "execute_result"
    }
   ],
   "source": [
    "coordinates = [(90, 34),(180,87),(81,3),(15,17),(-98,87)]\n",
    "wrong_coordinates(coordinates)"
   ]
  },
  {
   "cell_type": "code",
   "execution_count": null,
   "metadata": {},
   "outputs": [],
   "source": []
  }
 ],
 "metadata": {
  "kernelspec": {
   "display_name": "Python 3",
   "language": "python",
   "name": "python3"
  },
  "language_info": {
   "codemirror_mode": {
    "name": "ipython",
    "version": 3
   },
   "file_extension": ".py",
   "mimetype": "text/x-python",
   "name": "python",
   "nbconvert_exporter": "python",
   "pygments_lexer": "ipython3",
   "version": "3.6.3"
  }
 },
 "nbformat": 4,
 "nbformat_minor": 2
}
